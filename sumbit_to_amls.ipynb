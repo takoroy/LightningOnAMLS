{
 "cells": [
  {
   "cell_type": "markdown",
   "metadata": {},
   "source": [
    "# 必要なパッケージのインストール\n",
    "\n",
    "以下のパッケージをインストールしておきましょう。\n",
    "\n",
    "```bash\n",
    "pip install -U azureml-sdk[tensorboard]\n",
    "```"
   ]
  },
  {
   "cell_type": "code",
   "execution_count": null,
   "metadata": {
    "tags": []
   },
   "outputs": [],
   "source": [
    "import azureml.core\n",
    "from azureml.core import Workspace, Experiment\n",
    "from azureml.core.compute import AmlCompute, ComputeTarget\n",
    "from azureml.train.dnn import PyTorch\n",
    "from azureml.core.runconfig import MpiConfiguration\n",
    "# check core SDK version number\n",
    "print(\"Azure ML SDK Version: \", azureml.core.VERSION)"
   ]
  },
  {
   "cell_type": "markdown",
   "metadata": {},
   "source": [
    "# パラメータの指定\n",
    "\n",
    "以下のように、パラメータを指定します。"
   ]
  },
  {
   "cell_type": "code",
   "execution_count": null,
   "metadata": {},
   "outputs": [],
   "source": [
    "# Experimentの名前の指定\n",
    "EXPERIMENT_NAME = 'MNIST-GAN'\n",
    "\n",
    "# Computing Targetの設定\n",
    "COMPUTE_NAME = \"TwoNodeTwoGpus\"\n",
    "MIN_NODE = 0\n",
    "MAX_NODE = 2\n",
    "NUM_NODE = 2\n",
    "NUM_GPU = 2\n",
    "VM_SIZE = \"STANDARD_NV12\"\n",
    "\n",
    "# Scriptに関する設定\n",
    "SCRIPT_DIR = \"scripts\"\n",
    "ENTRY_SCRIPT = \"simple_gan.py\"\n",
    "SCRIPT_PARAMS = {\n",
    "    \"--lr\": 2e-4 * NUM_NODE * NUM_GPU,\n",
    "    \"--batch_size\": 64 * NUM_NODE * NUM_GPU,\n",
    "}"
   ]
  },
  {
   "cell_type": "markdown",
   "metadata": {},
   "source": [
    "# 実験の実行\n",
    "\n",
    "Workspace内に、ExperimentとComputing Targetを作成し、EstimatorをSubmitしましょう。"
   ]
  },
  {
   "cell_type": "markdown",
   "metadata": {},
   "source": [
    "## Workspaceの指定"
   ]
  },
  {
   "cell_type": "code",
   "execution_count": null,
   "metadata": {
    "tags": []
   },
   "outputs": [],
   "source": [
    "ws = Workspace.from_config()"
   ]
  },
  {
   "cell_type": "markdown",
   "metadata": {},
   "source": [
    "## Experimentの指定（存在しなければ作成されます）"
   ]
  },
  {
   "cell_type": "code",
   "execution_count": null,
   "metadata": {},
   "outputs": [],
   "source": [
    "exp = Experiment(workspace=ws, name=EXPERIMENT_NAME)"
   ]
  },
  {
   "cell_type": "markdown",
   "metadata": {},
   "source": [
    "## Computing Targetの指定（存在しなければ作成します）"
   ]
  },
  {
   "cell_type": "code",
   "execution_count": null,
   "metadata": {
    "tags": []
   },
   "outputs": [],
   "source": [
    "if COMPUTE_NAME in ws.compute_targets:\n",
    "    compute_target = ws.compute_targets[COMPUTE_NAME]\n",
    "    if compute_target and type(compute_target) is AmlCompute:\n",
    "        print('found compute target. just use it. ' + COMPUTE_NAME)\n",
    "else:\n",
    "    print('creating a new compute target...')\n",
    "    provisioning_config = AmlCompute.provisioning_configuration(\n",
    "        vm_size=VM_SIZE,\n",
    "        vm_priority=\"lowpriority\",\n",
    "        min_nodes=MIN_NODE,\n",
    "        max_nodes=MAX_NODE\n",
    "    )\n",
    "\n",
    "    # create the cluster\n",
    "    compute_target = ComputeTarget.create(\n",
    "        ws, COMPUTE_NAME, provisioning_config)\n",
    "\n",
    "    # can poll for a minimum number of nodes and for a specific timeout.\n",
    "    # if no min node count is provided it will use the scale settings for the cluster\n",
    "    compute_target.wait_for_completion(\n",
    "        show_output=True, min_node_count=None, timeout_in_minutes=20)\n",
    "\n",
    "    # For a more detailed view of current AmlCompute status, use get_status()\n",
    "    print(compute_target.get_status().serialize())"
   ]
  },
  {
   "cell_type": "markdown",
   "metadata": {},
   "source": [
    "## Estimatorの作成と提出"
   ]
  },
  {
   "cell_type": "code",
   "execution_count": null,
   "metadata": {
    "tags": []
   },
   "outputs": [],
   "source": [
    "mpi_config = MpiConfiguration()\n",
    "mpi_config.process_count_per_node = 2\n",
    "\n",
    "est = PyTorch(\n",
    "    source_directory=SCRIPT_DIR,\n",
    "    script_params=SCRIPT_PARAMS,\n",
    "    compute_target=compute_target,\n",
    "    use_gpu=True,\n",
    "    entry_script=ENTRY_SCRIPT,\n",
    "    conda_packages=[\"pip\"],\n",
    "    pip_packages=[\"pytorch-lightning\"],\n",
    "    node_count=NUM_NODE,\n",
    "    distributed_training=mpi_config,\n",
    "    framework_version=\"1.5\",\n",
    "    shm_size=\"8G\",\n",
    ")"
   ]
  },
  {
   "cell_type": "code",
   "execution_count": null,
   "metadata": {},
   "outputs": [],
   "source": [
    "run = exp.submit(config=est)\n",
    "run"
   ]
  },
  {
   "cell_type": "code",
   "execution_count": null,
   "metadata": {},
   "outputs": [],
   "source": [
    "run"
   ]
  },
  {
   "cell_type": "markdown",
   "metadata": {},
   "source": [
    "# TensorBoardの利用\n",
    "\n",
    "Azure Machine Learning Servicesでは、TensorBoardを使うことができます。"
   ]
  },
  {
   "cell_type": "code",
   "execution_count": null,
   "metadata": {
    "tags": []
   },
   "outputs": [],
   "source": [
    "from azureml.tensorboard import Tensorboard\n",
    "tb = Tensorboard([run], port=8008)\n",
    "# If successful, start() returns a string with the URI of the instance.\n",
    "tb.start()"
   ]
  },
  {
   "cell_type": "code",
   "execution_count": null,
   "metadata": {},
   "outputs": [],
   "source": [
    "# 停止\n",
    "tb.stop()"
   ]
  },
  {
   "cell_type": "code",
   "execution_count": null,
   "metadata": {},
   "outputs": [],
   "source": []
  }
 ],
 "metadata": {
  "language_info": {
   "name": "python",
   "codemirror_mode": {
    "name": "ipython",
    "version": 3
   },
   "version": "3.7.7-final"
  },
  "orig_nbformat": 2,
  "file_extension": ".py",
  "mimetype": "text/x-python",
  "name": "python",
  "npconvert_exporter": "python",
  "pygments_lexer": "ipython3",
  "version": 3,
  "kernelspec": {
   "name": "python37764bitplazmlsconda43e1e70c2a524b6ba78b46d996b38dfa",
   "display_name": "Python 3.7.7 64-bit ('pl-azmls': conda)"
  }
 },
 "nbformat": 4,
 "nbformat_minor": 2
}